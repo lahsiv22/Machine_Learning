{
 "cells": [
  {
   "cell_type": "code",
   "execution_count": null,
   "metadata": {},
   "outputs": [],
   "source": [
    "#Importing Packages\n",
    "import pandas as pd\n",
    "import numpy as np\n",
    "from sklearn import preprocessing\n",
    "import matplotlib.pyplot as plt \n",
    "plt.rc(\"font\", size=14)\n",
    "from sklearn.linear_model import LogisticRegression\n",
    "from sklearn.cross_validation import train_test_split\n",
    "import seaborn as sb\n",
    "sb.set(style=\"white\")\n",
    "sb.set(style=\"whitegrid\", color_codes=True)"
   ]
  },
  {
   "cell_type": "code",
   "execution_count": 2,
   "metadata": {},
   "outputs": [
    {
     "data": {
      "text/html": [
       "<div>\n",
       "<style>\n",
       "    .dataframe thead tr:only-child th {\n",
       "        text-align: right;\n",
       "    }\n",
       "\n",
       "    .dataframe thead th {\n",
       "        text-align: left;\n",
       "    }\n",
       "\n",
       "    .dataframe tbody tr th {\n",
       "        vertical-align: top;\n",
       "    }\n",
       "</style>\n",
       "<table border=\"1\" class=\"dataframe\">\n",
       "  <thead>\n",
       "    <tr style=\"text-align: right;\">\n",
       "      <th></th>\n",
       "      <th>age</th>\n",
       "      <th>job</th>\n",
       "      <th>marital</th>\n",
       "      <th>education</th>\n",
       "      <th>default</th>\n",
       "      <th>housing</th>\n",
       "      <th>loan</th>\n",
       "      <th>contact</th>\n",
       "      <th>month</th>\n",
       "      <th>day_of_week</th>\n",
       "      <th>...</th>\n",
       "      <th>campaign</th>\n",
       "      <th>pdays</th>\n",
       "      <th>previous</th>\n",
       "      <th>poutcome</th>\n",
       "      <th>emp_var_rate</th>\n",
       "      <th>cons_price_idx</th>\n",
       "      <th>cons_conf_idx</th>\n",
       "      <th>euribor3m</th>\n",
       "      <th>nr_employed</th>\n",
       "      <th>y</th>\n",
       "    </tr>\n",
       "  </thead>\n",
       "  <tbody>\n",
       "    <tr>\n",
       "      <th>0</th>\n",
       "      <td>44</td>\n",
       "      <td>blue-collar</td>\n",
       "      <td>married</td>\n",
       "      <td>basic.4y</td>\n",
       "      <td>unknown</td>\n",
       "      <td>yes</td>\n",
       "      <td>no</td>\n",
       "      <td>cellular</td>\n",
       "      <td>aug</td>\n",
       "      <td>thu</td>\n",
       "      <td>...</td>\n",
       "      <td>1</td>\n",
       "      <td>999</td>\n",
       "      <td>0</td>\n",
       "      <td>nonexistent</td>\n",
       "      <td>1.4</td>\n",
       "      <td>93.444</td>\n",
       "      <td>-36.1</td>\n",
       "      <td>4.963</td>\n",
       "      <td>5228.1</td>\n",
       "      <td>0</td>\n",
       "    </tr>\n",
       "    <tr>\n",
       "      <th>1</th>\n",
       "      <td>53</td>\n",
       "      <td>technician</td>\n",
       "      <td>married</td>\n",
       "      <td>unknown</td>\n",
       "      <td>no</td>\n",
       "      <td>no</td>\n",
       "      <td>no</td>\n",
       "      <td>cellular</td>\n",
       "      <td>nov</td>\n",
       "      <td>fri</td>\n",
       "      <td>...</td>\n",
       "      <td>1</td>\n",
       "      <td>999</td>\n",
       "      <td>0</td>\n",
       "      <td>nonexistent</td>\n",
       "      <td>-0.1</td>\n",
       "      <td>93.200</td>\n",
       "      <td>-42.0</td>\n",
       "      <td>4.021</td>\n",
       "      <td>5195.8</td>\n",
       "      <td>0</td>\n",
       "    </tr>\n",
       "    <tr>\n",
       "      <th>2</th>\n",
       "      <td>28</td>\n",
       "      <td>management</td>\n",
       "      <td>single</td>\n",
       "      <td>university.degree</td>\n",
       "      <td>no</td>\n",
       "      <td>yes</td>\n",
       "      <td>no</td>\n",
       "      <td>cellular</td>\n",
       "      <td>jun</td>\n",
       "      <td>thu</td>\n",
       "      <td>...</td>\n",
       "      <td>3</td>\n",
       "      <td>6</td>\n",
       "      <td>2</td>\n",
       "      <td>success</td>\n",
       "      <td>-1.7</td>\n",
       "      <td>94.055</td>\n",
       "      <td>-39.8</td>\n",
       "      <td>0.729</td>\n",
       "      <td>4991.6</td>\n",
       "      <td>1</td>\n",
       "    </tr>\n",
       "    <tr>\n",
       "      <th>3</th>\n",
       "      <td>39</td>\n",
       "      <td>services</td>\n",
       "      <td>married</td>\n",
       "      <td>high.school</td>\n",
       "      <td>no</td>\n",
       "      <td>no</td>\n",
       "      <td>no</td>\n",
       "      <td>cellular</td>\n",
       "      <td>apr</td>\n",
       "      <td>fri</td>\n",
       "      <td>...</td>\n",
       "      <td>2</td>\n",
       "      <td>999</td>\n",
       "      <td>0</td>\n",
       "      <td>nonexistent</td>\n",
       "      <td>-1.8</td>\n",
       "      <td>93.075</td>\n",
       "      <td>-47.1</td>\n",
       "      <td>1.405</td>\n",
       "      <td>5099.1</td>\n",
       "      <td>0</td>\n",
       "    </tr>\n",
       "    <tr>\n",
       "      <th>4</th>\n",
       "      <td>55</td>\n",
       "      <td>retired</td>\n",
       "      <td>married</td>\n",
       "      <td>basic.4y</td>\n",
       "      <td>no</td>\n",
       "      <td>yes</td>\n",
       "      <td>no</td>\n",
       "      <td>cellular</td>\n",
       "      <td>aug</td>\n",
       "      <td>fri</td>\n",
       "      <td>...</td>\n",
       "      <td>1</td>\n",
       "      <td>3</td>\n",
       "      <td>1</td>\n",
       "      <td>success</td>\n",
       "      <td>-2.9</td>\n",
       "      <td>92.201</td>\n",
       "      <td>-31.4</td>\n",
       "      <td>0.869</td>\n",
       "      <td>5076.2</td>\n",
       "      <td>1</td>\n",
       "    </tr>\n",
       "  </tbody>\n",
       "</table>\n",
       "<p>5 rows × 21 columns</p>\n",
       "</div>"
      ],
      "text/plain": [
       "   age          job  marital          education  default housing loan  \\\n",
       "0   44  blue-collar  married           basic.4y  unknown     yes   no   \n",
       "1   53   technician  married            unknown       no      no   no   \n",
       "2   28   management   single  university.degree       no     yes   no   \n",
       "3   39     services  married        high.school       no      no   no   \n",
       "4   55      retired  married           basic.4y       no     yes   no   \n",
       "\n",
       "    contact month day_of_week ...  campaign  pdays  previous     poutcome  \\\n",
       "0  cellular   aug         thu ...         1    999         0  nonexistent   \n",
       "1  cellular   nov         fri ...         1    999         0  nonexistent   \n",
       "2  cellular   jun         thu ...         3      6         2      success   \n",
       "3  cellular   apr         fri ...         2    999         0  nonexistent   \n",
       "4  cellular   aug         fri ...         1      3         1      success   \n",
       "\n",
       "  emp_var_rate  cons_price_idx  cons_conf_idx  euribor3m  nr_employed  y  \n",
       "0          1.4          93.444          -36.1      4.963       5228.1  0  \n",
       "1         -0.1          93.200          -42.0      4.021       5195.8  0  \n",
       "2         -1.7          94.055          -39.8      0.729       4991.6  1  \n",
       "3         -1.8          93.075          -47.1      1.405       5099.1  0  \n",
       "4         -2.9          92.201          -31.4      0.869       5076.2  1  \n",
       "\n",
       "[5 rows x 21 columns]"
      ]
     },
     "execution_count": 2,
     "metadata": {},
     "output_type": "execute_result"
    }
   ],
   "source": [
    "#Importing data\n",
    "data = pd.read_csv(\"targeted-marketing.csv\", sep=',')\n",
    "data.head()"
   ]
  },
  {
   "cell_type": "code",
   "execution_count": 3,
   "metadata": {},
   "outputs": [
    {
     "name": "stdout",
     "output_type": "stream",
     "text": [
      "['basic.4y' 'unknown' 'university.degree' 'high.school' 'basic.9y'\n",
      " 'professional.course' 'basic.6y' 'illiterate']\n"
     ]
    }
   ],
   "source": [
    "#Cleaning Data\n",
    "print(data['education'].unique())"
   ]
  },
  {
   "cell_type": "code",
   "execution_count": 4,
   "metadata": {},
   "outputs": [
    {
     "name": "stdout",
     "output_type": "stream",
     "text": [
      "['Basic' 'unknown' 'university.degree' 'high.school' 'professional.course'\n",
      " 'illiterate']\n"
     ]
    }
   ],
   "source": [
    "data['education'] = np.where(data['education']=='basic.4y', 'Basic', data['education'])\n",
    "data['education'] = np.where(data['education']=='basic.6y', 'Basic', data['education'])\n",
    "data['education'] = np.where(data['education']=='basic.9y', 'Basic', data['education'])\n",
    "print(data['education'].unique())"
   ]
  },
  {
   "cell_type": "code",
   "execution_count": 5,
   "metadata": {},
   "outputs": [
    {
     "name": "stdout",
     "output_type": "stream",
     "text": [
      "   age          job  marital          education  default housing loan  \\\n",
      "0   44  blue-collar  married              Basic  unknown     yes   no   \n",
      "1   53   technician  married            unknown       no      no   no   \n",
      "2   28   management   single  university.degree       no     yes   no   \n",
      "3   39     services  married        high.school       no      no   no   \n",
      "4   55      retired  married              Basic       no     yes   no   \n",
      "\n",
      "    contact month day_of_week     ...       job_entrepreneur  job_housemaid  \\\n",
      "0  cellular   aug         thu     ...                      0              0   \n",
      "1  cellular   nov         fri     ...                      0              0   \n",
      "2  cellular   jun         thu     ...                      0              0   \n",
      "3  cellular   apr         fri     ...                      0              0   \n",
      "4  cellular   aug         fri     ...                      0              0   \n",
      "\n",
      "   job_management  job_retired job_self-employed  job_services  job_student  \\\n",
      "0               0            0                 0             0            0   \n",
      "1               0            0                 0             0            0   \n",
      "2               1            0                 0             0            0   \n",
      "3               0            0                 0             1            0   \n",
      "4               0            1                 0             0            0   \n",
      "\n",
      "   job_technician  job_unemployed  job_unknown  \n",
      "0               0               0            0  \n",
      "1               1               0            0  \n",
      "2               0               0            0  \n",
      "3               0               0            0  \n",
      "4               0               0            0  \n",
      "\n",
      "[5 rows x 33 columns]\n",
      "   age          job  marital          education  default housing loan  \\\n",
      "0   44  blue-collar  married              Basic  unknown     yes   no   \n",
      "1   53   technician  married            unknown       no      no   no   \n",
      "2   28   management   single  university.degree       no     yes   no   \n",
      "3   39     services  married        high.school       no      no   no   \n",
      "4   55      retired  married              Basic       no     yes   no   \n",
      "\n",
      "    contact month day_of_week       ...         job_self-employed  \\\n",
      "0  cellular   aug         thu       ...                         0   \n",
      "1  cellular   nov         fri       ...                         0   \n",
      "2  cellular   jun         thu       ...                         0   \n",
      "3  cellular   apr         fri       ...                         0   \n",
      "4  cellular   aug         fri       ...                         0   \n",
      "\n",
      "   job_services  job_student  job_technician job_unemployed  job_unknown  \\\n",
      "0             0            0               0              0            0   \n",
      "1             0            0               1              0            0   \n",
      "2             0            0               0              0            0   \n",
      "3             1            0               0              0            0   \n",
      "4             0            0               0              0            0   \n",
      "\n",
      "   marital_divorced  marital_married  marital_single  marital_unknown  \n",
      "0                 0                1               0                0  \n",
      "1                 0                1               0                0  \n",
      "2                 0                0               1                0  \n",
      "3                 0                1               0                0  \n",
      "4                 0                1               0                0  \n",
      "\n",
      "[5 rows x 37 columns]\n",
      "   age          job  marital          education  default housing loan  \\\n",
      "0   44  blue-collar  married              Basic  unknown     yes   no   \n",
      "1   53   technician  married            unknown       no      no   no   \n",
      "2   28   management   single  university.degree       no     yes   no   \n",
      "3   39     services  married        high.school       no      no   no   \n",
      "4   55      retired  married              Basic       no     yes   no   \n",
      "\n",
      "    contact month day_of_week        ...          marital_divorced  \\\n",
      "0  cellular   aug         thu        ...                         0   \n",
      "1  cellular   nov         fri        ...                         0   \n",
      "2  cellular   jun         thu        ...                         0   \n",
      "3  cellular   apr         fri        ...                         0   \n",
      "4  cellular   aug         fri        ...                         0   \n",
      "\n",
      "   marital_married  marital_single  marital_unknown education_Basic  \\\n",
      "0                1               0                0               1   \n",
      "1                1               0                0               0   \n",
      "2                0               1                0               0   \n",
      "3                1               0                0               0   \n",
      "4                1               0                0               1   \n",
      "\n",
      "   education_high.school  education_illiterate  education_professional.course  \\\n",
      "0                      0                     0                              0   \n",
      "1                      0                     0                              0   \n",
      "2                      0                     0                              0   \n",
      "3                      1                     0                              0   \n",
      "4                      0                     0                              0   \n",
      "\n",
      "   education_university.degree  education_unknown  \n",
      "0                            0                  0  \n",
      "1                            0                  1  \n",
      "2                            1                  0  \n",
      "3                            0                  0  \n",
      "4                            0                  0  \n",
      "\n",
      "[5 rows x 43 columns]\n",
      "   age          job  marital          education  default housing loan  \\\n",
      "0   44  blue-collar  married              Basic  unknown     yes   no   \n",
      "1   53   technician  married            unknown       no      no   no   \n",
      "2   28   management   single  university.degree       no     yes   no   \n",
      "3   39     services  married        high.school       no      no   no   \n",
      "4   55      retired  married              Basic       no     yes   no   \n",
      "\n",
      "    contact month day_of_week     ...       marital_unknown  education_Basic  \\\n",
      "0  cellular   aug         thu     ...                     0                1   \n",
      "1  cellular   nov         fri     ...                     0                0   \n",
      "2  cellular   jun         thu     ...                     0                0   \n",
      "3  cellular   apr         fri     ...                     0                0   \n",
      "4  cellular   aug         fri     ...                     0                1   \n",
      "\n",
      "   education_high.school  education_illiterate education_professional.course  \\\n",
      "0                      0                     0                             0   \n",
      "1                      0                     0                             0   \n",
      "2                      0                     0                             0   \n",
      "3                      1                     0                             0   \n",
      "4                      0                     0                             0   \n",
      "\n",
      "   education_university.degree  education_unknown  default_no  \\\n",
      "0                            0                  0           0   \n",
      "1                            0                  1           1   \n",
      "2                            1                  0           1   \n",
      "3                            0                  0           1   \n",
      "4                            0                  0           1   \n",
      "\n",
      "   default_unknown  default_yes  \n",
      "0                1            0  \n",
      "1                0            0  \n",
      "2                0            0  \n",
      "3                0            0  \n",
      "4                0            0  \n",
      "\n",
      "[5 rows x 46 columns]\n",
      "   age          job  marital          education  default housing loan  \\\n",
      "0   44  blue-collar  married              Basic  unknown     yes   no   \n",
      "1   53   technician  married            unknown       no      no   no   \n",
      "2   28   management   single  university.degree       no     yes   no   \n",
      "3   39     services  married        high.school       no      no   no   \n",
      "4   55      retired  married              Basic       no     yes   no   \n",
      "\n",
      "    contact month day_of_week     ...       education_illiterate  \\\n",
      "0  cellular   aug         thu     ...                          0   \n",
      "1  cellular   nov         fri     ...                          0   \n",
      "2  cellular   jun         thu     ...                          0   \n",
      "3  cellular   apr         fri     ...                          0   \n",
      "4  cellular   aug         fri     ...                          0   \n",
      "\n",
      "   education_professional.course  education_university.degree  \\\n",
      "0                              0                            0   \n",
      "1                              0                            0   \n",
      "2                              0                            1   \n",
      "3                              0                            0   \n",
      "4                              0                            0   \n",
      "\n",
      "   education_unknown default_no  default_unknown  default_yes  housing_no  \\\n",
      "0                  0          0                1            0           0   \n",
      "1                  1          1                0            0           1   \n",
      "2                  0          1                0            0           0   \n",
      "3                  0          1                0            0           1   \n",
      "4                  0          1                0            0           0   \n",
      "\n",
      "   housing_unknown  housing_yes  \n",
      "0                0            1  \n",
      "1                0            0  \n",
      "2                0            1  \n",
      "3                0            0  \n",
      "4                0            1  \n",
      "\n",
      "[5 rows x 49 columns]\n",
      "   age          job  marital          education  default housing loan  \\\n",
      "0   44  blue-collar  married              Basic  unknown     yes   no   \n",
      "1   53   technician  married            unknown       no      no   no   \n",
      "2   28   management   single  university.degree       no     yes   no   \n",
      "3   39     services  married        high.school       no      no   no   \n",
      "4   55      retired  married              Basic       no     yes   no   \n",
      "\n",
      "    contact month day_of_week    ...     education_unknown  default_no  \\\n",
      "0  cellular   aug         thu    ...                     0           0   \n",
      "1  cellular   nov         fri    ...                     1           1   \n",
      "2  cellular   jun         thu    ...                     0           1   \n",
      "3  cellular   apr         fri    ...                     0           1   \n",
      "4  cellular   aug         fri    ...                     0           1   \n",
      "\n",
      "   default_unknown  default_yes housing_no  housing_unknown  housing_yes  \\\n",
      "0                1            0          0                0            1   \n",
      "1                0            0          1                0            0   \n",
      "2                0            0          0                0            1   \n",
      "3                0            0          1                0            0   \n",
      "4                0            0          0                0            1   \n",
      "\n",
      "   loan_no  loan_unknown  loan_yes  \n",
      "0        1             0         0  \n",
      "1        1             0         0  \n",
      "2        1             0         0  \n",
      "3        1             0         0  \n",
      "4        1             0         0  \n",
      "\n",
      "[5 rows x 52 columns]\n",
      "   age          job  marital          education  default housing loan  \\\n",
      "0   44  blue-collar  married              Basic  unknown     yes   no   \n",
      "1   53   technician  married            unknown       no      no   no   \n",
      "2   28   management   single  university.degree       no     yes   no   \n",
      "3   39     services  married        high.school       no      no   no   \n",
      "4   55      retired  married              Basic       no     yes   no   \n",
      "\n",
      "    contact month day_of_week        ...          default_unknown  \\\n",
      "0  cellular   aug         thu        ...                        1   \n",
      "1  cellular   nov         fri        ...                        0   \n",
      "2  cellular   jun         thu        ...                        0   \n",
      "3  cellular   apr         fri        ...                        0   \n",
      "4  cellular   aug         fri        ...                        0   \n",
      "\n",
      "   default_yes  housing_no  housing_unknown housing_yes  loan_no  \\\n",
      "0            0           0                0           1        1   \n",
      "1            0           1                0           0        1   \n",
      "2            0           0                0           1        1   \n",
      "3            0           1                0           0        1   \n",
      "4            0           0                0           1        1   \n",
      "\n",
      "   loan_unknown  loan_yes  contact_cellular  contact_telephone  \n",
      "0             0         0                 1                  0  \n",
      "1             0         0                 1                  0  \n",
      "2             0         0                 1                  0  \n",
      "3             0         0                 1                  0  \n",
      "4             0         0                 1                  0  \n",
      "\n",
      "[5 rows x 54 columns]\n",
      "   age          job  marital          education  default housing loan  \\\n",
      "0   44  blue-collar  married              Basic  unknown     yes   no   \n",
      "1   53   technician  married            unknown       no      no   no   \n",
      "2   28   management   single  university.degree       no     yes   no   \n",
      "3   39     services  married        high.school       no      no   no   \n",
      "4   55      retired  married              Basic       no     yes   no   \n",
      "\n",
      "    contact month day_of_week    ...      month_apr  month_aug  month_dec  \\\n",
      "0  cellular   aug         thu    ...              0          1          0   \n",
      "1  cellular   nov         fri    ...              0          0          0   \n",
      "2  cellular   jun         thu    ...              0          0          0   \n",
      "3  cellular   apr         fri    ...              1          0          0   \n",
      "4  cellular   aug         fri    ...              0          1          0   \n",
      "\n",
      "   month_jul month_jun  month_mar  month_may  month_nov  month_oct  month_sep  \n",
      "0          0         0          0          0          0          0          0  \n",
      "1          0         0          0          0          1          0          0  \n",
      "2          0         1          0          0          0          0          0  \n",
      "3          0         0          0          0          0          0          0  \n",
      "4          0         0          0          0          0          0          0  \n",
      "\n",
      "[5 rows x 64 columns]\n",
      "   age          job  marital          education  default housing loan  \\\n",
      "0   44  blue-collar  married              Basic  unknown     yes   no   \n",
      "1   53   technician  married            unknown       no      no   no   \n",
      "2   28   management   single  university.degree       no     yes   no   \n",
      "3   39     services  married        high.school       no      no   no   \n",
      "4   55      retired  married              Basic       no     yes   no   \n",
      "\n",
      "    contact month day_of_week       ...         month_mar  month_may  \\\n",
      "0  cellular   aug         thu       ...                 0          0   \n",
      "1  cellular   nov         fri       ...                 0          0   \n",
      "2  cellular   jun         thu       ...                 0          0   \n",
      "3  cellular   apr         fri       ...                 0          0   \n",
      "4  cellular   aug         fri       ...                 0          0   \n",
      "\n",
      "   month_nov  month_oct month_sep  day_of_week_fri  day_of_week_mon  \\\n",
      "0          0          0         0                0                0   \n",
      "1          1          0         0                1                0   \n",
      "2          0          0         0                0                0   \n",
      "3          0          0         0                1                0   \n",
      "4          0          0         0                1                0   \n",
      "\n",
      "   day_of_week_thu  day_of_week_tue  day_of_week_wed  \n",
      "0                1                0                0  \n",
      "1                0                0                0  \n",
      "2                1                0                0  \n",
      "3                0                0                0  \n",
      "4                0                0                0  \n",
      "\n",
      "[5 rows x 69 columns]\n",
      "   age          job  marital          education  default housing loan  \\\n",
      "0   44  blue-collar  married              Basic  unknown     yes   no   \n",
      "1   53   technician  married            unknown       no      no   no   \n",
      "2   28   management   single  university.degree       no     yes   no   \n",
      "3   39     services  married        high.school       no      no   no   \n",
      "4   55      retired  married              Basic       no     yes   no   \n",
      "\n",
      "    contact month day_of_week        ...         month_oct  month_sep  \\\n",
      "0  cellular   aug         thu        ...                 0          0   \n",
      "1  cellular   nov         fri        ...                 0          0   \n",
      "2  cellular   jun         thu        ...                 0          0   \n",
      "3  cellular   apr         fri        ...                 0          0   \n",
      "4  cellular   aug         fri        ...                 0          0   \n",
      "\n",
      "   day_of_week_fri  day_of_week_mon day_of_week_thu  day_of_week_tue  \\\n",
      "0                0                0               1                0   \n",
      "1                1                0               0                0   \n",
      "2                0                0               1                0   \n",
      "3                1                0               0                0   \n",
      "4                1                0               0                0   \n",
      "\n",
      "   day_of_week_wed  poutcome_failure  poutcome_nonexistent  poutcome_success  \n",
      "0                0                 0                     1                 0  \n",
      "1                0                 0                     1                 0  \n",
      "2                0                 0                     0                 1  \n",
      "3                0                 0                     1                 0  \n",
      "4                0                 0                     0                 1  \n",
      "\n",
      "[5 rows x 72 columns]\n"
     ]
    },
    {
     "data": {
      "text/plain": [
       "array(['age', 'duration', 'campaign', 'pdays', 'previous', 'emp_var_rate',\n",
       "       'cons_price_idx', 'cons_conf_idx', 'euribor3m', 'nr_employed', 'y',\n",
       "       'job_admin.', 'job_blue-collar', 'job_entrepreneur',\n",
       "       'job_housemaid', 'job_management', 'job_retired',\n",
       "       'job_self-employed', 'job_services', 'job_student',\n",
       "       'job_technician', 'job_unemployed', 'job_unknown',\n",
       "       'marital_divorced', 'marital_married', 'marital_single',\n",
       "       'marital_unknown', 'education_Basic', 'education_high.school',\n",
       "       'education_illiterate', 'education_professional.course',\n",
       "       'education_university.degree', 'education_unknown', 'default_no',\n",
       "       'default_unknown', 'default_yes', 'housing_no', 'housing_unknown',\n",
       "       'housing_yes', 'loan_no', 'loan_unknown', 'loan_yes',\n",
       "       'contact_cellular', 'contact_telephone', 'month_apr', 'month_aug',\n",
       "       'month_dec', 'month_jul', 'month_jun', 'month_mar', 'month_may',\n",
       "       'month_nov', 'month_oct', 'month_sep', 'day_of_week_fri',\n",
       "       'day_of_week_mon', 'day_of_week_thu', 'day_of_week_tue',\n",
       "       'day_of_week_wed', 'poutcome_failure', 'poutcome_nonexistent',\n",
       "       'poutcome_success'], dtype=object)"
      ]
     },
     "execution_count": 5,
     "metadata": {},
     "output_type": "execute_result"
    }
   ],
   "source": [
    "#Categorising all the non_numeric variables\n",
    "variables = ['job','marital','education','default','housing','loan','contact','month','day_of_week','poutcome']\n",
    "for var in variables :\n",
    "    var_list = 'var'+'_'+var\n",
    "    var_list = pd.get_dummies(data[var], prefix = var)\n",
    "    Data = data.join(var_list)\n",
    "    data = Data\n",
    "    print(data.head())\n",
    "\n",
    "    \n",
    "variables = ['job','marital','education','default','housing','loan','contact','month','day_of_week','poutcome']\n",
    "data_vars=data.columns.values.tolist()\n",
    "to_keep=[i for i in data_vars if i not in variables]\n",
    "\n",
    "data_final=data[to_keep]\n",
    "data_final.columns.values"
   ]
  },
  {
   "cell_type": "code",
   "execution_count": 6,
   "metadata": {},
   "outputs": [],
   "source": [
    "data_final_vars=data_final.columns.values.tolist()\n",
    "Y=['y']\n",
    "X=[i for i in data_final_vars if i not in Y]"
   ]
  },
  {
   "cell_type": "code",
   "execution_count": 7,
   "metadata": {
    "scrolled": true
   },
   "outputs": [
    {
     "name": "stderr",
     "output_type": "stream",
     "text": [
      "D:\\anaconda\\lib\\site-packages\\statsmodels\\compat\\pandas.py:56: FutureWarning: The pandas.core.datetools module is deprecated and will be removed in a future version. Please use the pandas.tseries module instead.\n",
      "  from pandas.core import datetools\n"
     ]
    },
    {
     "name": "stdout",
     "output_type": "stream",
     "text": [
      "Warning: Maximum number of iterations has been exceeded.\n",
      "         Current function value: 0.207332\n",
      "         Iterations: 35\n",
      "                           Logit Regression Results                           \n",
      "==============================================================================\n",
      "Dep. Variable:                      y   No. Observations:                41188\n",
      "Model:                          Logit   Df Residuals:                    41137\n",
      "Method:                           MLE   Df Model:                           50\n",
      "Date:                Fri, 15 Jun 2018   Pseudo R-squ.:                  0.4110\n",
      "Time:                        16:24:58   Log-Likelihood:                -8539.6\n",
      "converged:                      False   LL-Null:                       -14499.\n",
      "                                        LLR p-value:                     0.000\n",
      "=================================================================================================\n",
      "                                    coef    std err          z      P>|z|      [0.025      0.975]\n",
      "-------------------------------------------------------------------------------------------------\n",
      "age                            9.896e-05      0.002      0.041      0.967      -0.005       0.005\n",
      "duration                          0.0047   7.46e-05     63.110      0.000       0.005       0.005\n",
      "campaign                         -0.0402      0.012     -3.475      0.001      -0.063      -0.018\n",
      "pdays                            -0.0009      0.000     -4.324      0.000      -0.001      -0.001\n",
      "previous                         -0.0624      0.059     -1.055      0.291      -0.178       0.054\n",
      "emp_var_rate                     -1.7570      0.142    -12.377      0.000      -2.035      -1.479\n",
      "cons_price_idx                    2.1881      0.252      8.671      0.000       1.694       2.683\n",
      "cons_conf_idx                     0.0206      0.008      2.657      0.008       0.005       0.036\n",
      "euribor3m                         0.3318      0.130      2.553      0.011       0.077       0.586\n",
      "nr_employed                       0.0054      0.003      1.734      0.083      -0.001       0.012\n",
      "job_admin.                       -7.6541   1.45e+05   -5.3e-05      1.000   -2.83e+05    2.83e+05\n",
      "job_blue-collar                  -7.8872        nan        nan        nan         nan         nan\n",
      "job_entrepreneur                 -7.8323        nan        nan        nan         nan         nan\n",
      "job_housemaid                    -7.6828        nan        nan        nan         nan         nan\n",
      "job_management                   -7.7098        nan        nan        nan         nan         nan\n",
      "job_retired                      -7.3714        nan        nan        nan         nan         nan\n",
      "job_self-employed                -7.8147        nan        nan        nan         nan         nan\n",
      "job_services                     -7.7903        nan        nan        nan         nan         nan\n",
      "job_student                      -7.4523        nan        nan        nan         nan         nan\n",
      "job_technician                   -7.6689        nan        nan        nan         nan         nan\n",
      "job_unemployed                   -7.6371        nan        nan        nan         nan         nan\n",
      "job_unknown                      -7.7221        nan        nan        nan         nan         nan\n",
      "marital_divorced                -23.0737        nan        nan        nan         nan         nan\n",
      "marital_married                 -23.0753        nan        nan        nan         nan         nan\n",
      "marital_single                  -23.0186        nan        nan        nan         nan         nan\n",
      "marital_unknown                 -23.0411        nan        nan        nan         nan         nan\n",
      "education_Basic                 -15.6151        nan        nan        nan         nan         nan\n",
      "education_high.school           -15.5877        nan        nan        nan         nan         nan\n",
      "education_illiterate            -14.5684        nan        nan        nan         nan         nan\n",
      "education_professional.course   -15.5200        nan        nan        nan         nan         nan\n",
      "education_university.degree     -15.4393        nan        nan        nan         nan         nan\n",
      "education_unknown               -15.4855        nan        nan        nan         nan         nan\n",
      "default_no                      -26.0649   1.24e+06   -2.1e-05      1.000   -2.43e+06    2.43e+06\n",
      "default_unknown                 -26.3628   1.24e+06  -2.12e-05      1.000   -2.44e+06    2.44e+06\n",
      "default_yes                     -39.7832   1.19e+06  -3.35e-05      1.000   -2.32e+06    2.32e+06\n",
      "housing_no                      -30.7511        nan        nan        nan         nan         nan\n",
      "housing_unknown                 -30.7521   9.78e+07  -3.15e-07      1.000   -1.92e+08    1.92e+08\n",
      "housing_yes                     -30.7560        nan        nan        nan         nan         nan\n",
      "loan_no                         -30.6613        nan        nan        nan         nan         nan\n",
      "loan_unknown                    -30.7538   9.18e+07  -3.35e-07      1.000    -1.8e+08     1.8e+08\n",
      "loan_yes                        -30.7133        nan        nan        nan         nan         nan\n",
      "contact_cellular                -43.8701        nan        nan        nan         nan         nan\n",
      "contact_telephone               -44.5152        nan        nan        nan         nan         nan\n",
      "month_apr                        -9.4407   1.21e+06  -7.77e-06      1.000   -2.38e+06    2.38e+06\n",
      "month_aug                        -8.5761   1.17e+06  -7.32e-06      1.000    -2.3e+06     2.3e+06\n",
      "month_dec                        -9.1242   1.15e+06  -7.97e-06      1.000   -2.24e+06    2.24e+06\n",
      "month_jul                        -9.3056   1.28e+06  -7.27e-06      1.000   -2.51e+06    2.51e+06\n",
      "month_jun                        -9.9639    1.2e+06  -8.31e-06      1.000   -2.35e+06    2.35e+06\n",
      "month_mar                        -7.4276   1.18e+06  -6.29e-06      1.000   -2.31e+06    2.31e+06\n",
      "month_may                        -9.8843   1.24e+06  -7.96e-06      1.000   -2.44e+06    2.44e+06\n",
      "month_nov                        -9.8585   1.09e+06  -9.03e-06      1.000   -2.14e+06    2.14e+06\n",
      "month_oct                        -9.2461   1.26e+06  -7.35e-06      1.000   -2.47e+06    2.47e+06\n",
      "month_sep                        -9.0653    1.1e+06  -8.22e-06      1.000   -2.16e+06    2.16e+06\n",
      "day_of_week_fri                 -18.2862   1.16e+06  -1.57e-05      1.000   -2.28e+06    2.28e+06\n",
      "day_of_week_mon                 -18.4038   1.16e+06  -1.58e-05      1.000   -2.28e+06    2.28e+06\n",
      "day_of_week_thu                 -18.2299   1.16e+06  -1.57e-05      1.000   -2.28e+06    2.28e+06\n",
      "day_of_week_tue                 -18.1890   1.16e+06  -1.56e-05      1.000   -2.28e+06    2.28e+06\n",
      "day_of_week_wed                 -18.1109   1.16e+06  -1.56e-05      1.000   -2.28e+06    2.28e+06\n",
      "poutcome_failure                -30.8868    4.1e+05  -7.54e-05      1.000   -8.03e+05    8.03e+05\n",
      "poutcome_nonexistent            -30.4605    4.1e+05  -7.44e-05      1.000   -8.03e+05    8.03e+05\n",
      "poutcome_success                -29.9264    4.1e+05  -7.31e-05      1.000   -8.03e+05    8.03e+05\n",
      "=================================================================================================\n"
     ]
    },
    {
     "name": "stderr",
     "output_type": "stream",
     "text": [
      "D:\\anaconda\\lib\\site-packages\\statsmodels\\base\\model.py:496: ConvergenceWarning: Maximum Likelihood optimization failed to converge. Check mle_retvals\n",
      "  \"Check mle_retvals\", ConvergenceWarning)\n",
      "D:\\anaconda\\lib\\site-packages\\statsmodels\\base\\model.py:1029: RuntimeWarning: invalid value encountered in sqrt\n",
      "  return np.sqrt(np.diag(self.cov_params()))\n",
      "D:\\anaconda\\lib\\site-packages\\scipy\\stats\\_distn_infrastructure.py:879: RuntimeWarning: invalid value encountered in greater\n",
      "  return (self.a < x) & (x < self.b)\n",
      "D:\\anaconda\\lib\\site-packages\\scipy\\stats\\_distn_infrastructure.py:879: RuntimeWarning: invalid value encountered in less\n",
      "  return (self.a < x) & (x < self.b)\n",
      "D:\\anaconda\\lib\\site-packages\\scipy\\stats\\_distn_infrastructure.py:1818: RuntimeWarning: invalid value encountered in less_equal\n",
      "  cond2 = cond0 & (x <= self.a)\n"
     ]
    }
   ],
   "source": [
    "#Implementing the model\n",
    "import statsmodels.api as sm\n",
    "logit_model=sm.Logit(data_final[Y],data_final[X])\n",
    "result=logit_model.fit()\n",
    "print(result.summary())"
   ]
  },
  {
   "cell_type": "code",
   "execution_count": 8,
   "metadata": {},
   "outputs": [
    {
     "name": "stderr",
     "output_type": "stream",
     "text": [
      "D:\\anaconda\\lib\\site-packages\\sklearn\\utils\\validation.py:578: DataConversionWarning: A column-vector y was passed when a 1d array was expected. Please change the shape of y to (n_samples, ), for example using ravel().\n",
      "  y = column_or_1d(y, warn=True)\n"
     ]
    },
    {
     "name": "stdout",
     "output_type": "stream",
     "text": [
      "Score: 0.913085700413\n"
     ]
    }
   ],
   "source": [
    "#Fitting the Logistic Regression model by spliting them into traning data and testing data\n",
    "logreg = LogisticRegression()\n",
    "\n",
    "x_train, x_test, y_train, y_test = train_test_split(data_final[X], data_final[Y], test_size=0.3, random_state=0)\n",
    "logreg.fit(x_train, y_train)\n",
    "y_pred = logreg.predict(x_test)\n",
    "print('Score:' ,logreg.score(x_test, y_test ))"
   ]
  },
  {
   "cell_type": "code",
   "execution_count": 9,
   "metadata": {},
   "outputs": [
    {
     "name": "stdout",
     "output_type": "stream",
     "text": [
      "[[10718   263]\n",
      " [  811   565]]\n"
     ]
    }
   ],
   "source": [
    "#Confusion matrix\n",
    "\n",
    "from sklearn.metrics import confusion_matrix\n",
    "confusion_matrix = confusion_matrix(y_test, y_pred)\n",
    "print(confusion_matrix)"
   ]
  },
  {
   "cell_type": "code",
   "execution_count": 10,
   "metadata": {
    "scrolled": true
   },
   "outputs": [
    {
     "name": "stdout",
     "output_type": "stream",
     "text": [
      "Warning: xgboost.XGBClassifier is not available and will not be used by TPOT.\n"
     ]
    },
    {
     "name": "stderr",
     "output_type": "stream",
     "text": [
      "D:\\anaconda\\lib\\site-packages\\sklearn\\utils\\validation.py:578: DataConversionWarning: A column-vector y was passed when a 1d array was expected. Please change the shape of y to (n_samples, ), for example using ravel().\n",
      "  y = column_or_1d(y, warn=True)\n",
      "                                                                                                                       \r"
     ]
    },
    {
     "name": "stdout",
     "output_type": "stream",
     "text": [
      "Generation 1 - Current best internal CV score: 0.9151258772451294\n"
     ]
    },
    {
     "name": "stderr",
     "output_type": "stream",
     "text": [
      "                                                                                                                       \r"
     ]
    },
    {
     "name": "stdout",
     "output_type": "stream",
     "text": [
      "Generation 2 - Current best internal CV score: 0.9151258772451294\n"
     ]
    },
    {
     "name": "stderr",
     "output_type": "stream",
     "text": [
      "                                                                                                                       \r"
     ]
    },
    {
     "name": "stdout",
     "output_type": "stream",
     "text": [
      "Generation 3 - Current best internal CV score: 0.9152298272323447\n"
     ]
    },
    {
     "name": "stderr",
     "output_type": "stream",
     "text": [
      "                                                                                                                       \r"
     ]
    },
    {
     "name": "stdout",
     "output_type": "stream",
     "text": [
      "Generation 4 - Current best internal CV score: 0.9153688423083551\n"
     ]
    },
    {
     "name": "stderr",
     "output_type": "stream",
     "text": [
      "                                                                                                                       \r"
     ]
    },
    {
     "name": "stdout",
     "output_type": "stream",
     "text": [
      "Generation 5 - Current best internal CV score: 0.9153688423083551\n"
     ]
    },
    {
     "name": "stderr",
     "output_type": "stream",
     "text": [
      "                                                             \r"
     ]
    },
    {
     "name": "stdout",
     "output_type": "stream",
     "text": [
      "\n",
      "Best pipeline: RandomForestClassifier(SelectPercentile(input_matrix, percentile=84), bootstrap=True, criterion=gini, max_features=0.4, min_samples_leaf=9, min_samples_split=13, n_estimators=100)\n",
      "0.919640689488\n"
     ]
    }
   ],
   "source": [
    "from tpot import TPOTClassifier\n",
    "tpot = TPOTClassifier(generations=5, population_size=50, verbosity=2)\n",
    "tpot.fit(x_train, y_train)\n",
    "print(tpot.score(x_test, y_test))"
   ]
  },
  {
   "cell_type": "code",
   "execution_count": 11,
   "metadata": {},
   "outputs": [
    {
     "data": {
      "text/plain": [
       "True"
      ]
     },
     "execution_count": 11,
     "metadata": {},
     "output_type": "execute_result"
    }
   ],
   "source": [
    "tpot.export('tpot_market_pipeline.py')"
   ]
  },
  {
   "cell_type": "code",
   "execution_count": 30,
   "metadata": {},
   "outputs": [],
   "source": [
    "from sklearn.ensemble import RandomForestClassifier\n",
    "from sklearn.feature_selection import SelectPercentile, f_classif\n",
    "from sklearn.model_selection import train_test_split\n",
    "from sklearn.pipeline import make_pipeline"
   ]
  },
  {
   "cell_type": "code",
   "execution_count": 32,
   "metadata": {},
   "outputs": [
    {
     "name": "stderr",
     "output_type": "stream",
     "text": [
      "D:\\anaconda\\lib\\site-packages\\sklearn\\utils\\validation.py:578: DataConversionWarning: A column-vector y was passed when a 1d array was expected. Please change the shape of y to (n_samples, ), for example using ravel().\n",
      "  y = column_or_1d(y, warn=True)\n",
      "D:\\anaconda\\lib\\site-packages\\sklearn\\pipeline.py:250: DataConversionWarning: A column-vector y was passed when a 1d array was expected. Please change the shape of y to (n_samples,), for example using ravel().\n",
      "  self._final_estimator.fit(Xt, y, **fit_params)\n"
     ]
    },
    {
     "name": "stdout",
     "output_type": "stream",
     "text": [
      "Score: 0.919478837906\n"
     ]
    }
   ],
   "source": [
    "exported_pipeline = make_pipeline(\n",
    "    SelectPercentile(score_func=f_classif, percentile=84),\n",
    "    RandomForestClassifier(bootstrap=True, criterion=\"gini\", max_features=0.4, min_samples_leaf=9, min_samples_split=13, n_estimators=100)\n",
    ")\n",
    "\n",
    "exported_pipeline.fit(x_train, y_train)\n",
    "results = exported_pipeline.predict(x_test)\n",
    "print('Score:', exported_pipeline.score(x_test, y_test))\n"
   ]
  },
  {
   "cell_type": "code",
   "execution_count": null,
   "metadata": {},
   "outputs": [],
   "source": []
  }
 ],
 "metadata": {
  "kernelspec": {
   "display_name": "Python 3",
   "language": "python",
   "name": "python3"
  },
  "language_info": {
   "codemirror_mode": {
    "name": "ipython",
    "version": 3
   },
   "file_extension": ".py",
   "mimetype": "text/x-python",
   "name": "python",
   "nbconvert_exporter": "python",
   "pygments_lexer": "ipython3",
   "version": "3.6.5"
  }
 },
 "nbformat": 4,
 "nbformat_minor": 2
}
